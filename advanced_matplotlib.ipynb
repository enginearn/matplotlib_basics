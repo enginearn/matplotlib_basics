{
 "cells": [
  {
   "cell_type": "code",
   "execution_count": 1,
   "id": "8442b98d-bf6d-40b5-be20-d33d1d5ad647",
   "metadata": {},
   "outputs": [],
   "source": [
    "import matplotlib as mpl\n",
    "import matplotlib.pyplot as plt"
   ]
  },
  {
   "cell_type": "code",
   "execution_count": 2,
   "id": "0acfbed4-2c1f-46d7-ba56-7328bc217e49",
   "metadata": {},
   "outputs": [
    {
     "data": {
      "text/plain": [
       "<Figure size 640x480 with 0 Axes>"
      ]
     },
     "metadata": {},
     "output_type": "display_data"
    }
   ],
   "source": [
    "fig = plt.figure()"
   ]
  },
  {
   "cell_type": "code",
   "execution_count": 3,
   "id": "6d7b1802-af8d-44f0-a776-7d641cce3844",
   "metadata": {},
   "outputs": [
    {
     "data": {
      "text/plain": [
       "<Figure size 1600x900 with 0 Axes>"
      ]
     },
     "metadata": {},
     "output_type": "display_data"
    }
   ],
   "source": [
    "fig = plt.figure(figsize=(16.0, 9.0), dpi=100,\n",
    "                 facecolor='w', linewidth=0, edgecolor='w')"
   ]
  },
  {
   "cell_type": "code",
   "execution_count": 4,
   "id": "5ea5c6f8-b2c7-4c34-b9cd-e082ea5c3049",
   "metadata": {},
   "outputs": [],
   "source": [
    "ax = fig.add_subplot(111)\n",
    "\n",
    "fig.savefig('images/figure_1.png',\n",
    "            facecolor=fig.get_facecolor(), edgecolor=fig.get_edgecolor())"
   ]
  },
  {
   "cell_type": "code",
   "execution_count": 5,
   "id": "f679b6da-36f7-4242-893f-521dbc39272a",
   "metadata": {},
   "outputs": [
    {
     "data": {
      "image/png": "[encoded data removed]",
      "text/plain": [
       "<Figure size 432x288 with 1 Axes>"
      ]
     },
     "metadata": {},
     "output_type": "display_data"
    }
   ],
   "source": [
    "fig = plt.figure(figsize=(6, 4), dpi=72, facecolor='skyblue', linewidth=10, edgecolor='green')\n",
    "\n",
    "ax = fig.add_subplot(111)\n",
    "\n",
    "fig.savefig('images/fig_colored.png',\n",
    "            facecolor=fig.get_facecolor(), edgecolor=fig.get_edgecolor())"
   ]
  },
  {
   "cell_type": "code",
   "execution_count": null,
   "id": "944f0325-954e-4781-aa63-dc5c167d9220",
   "metadata": {},
   "outputs": [],
   "source": []
  }
 ],
 "metadata": {
  "kernelspec": {
   "display_name": "Python 3 (ipykernel)",
   "language": "python",
   "name": "python3"
  },
  "language_info": {
   "codemirror_mode": {
    "name": "ipython",
    "version": 3
   },
   "file_extension": ".py",
   "mimetype": "text/x-python",
   "name": "python",
   "nbconvert_exporter": "python",
   "pygments_lexer": "ipython3",
   "version": "3.10.7"
  }
 },
 "nbformat": 4,
 "nbformat_minor": 5
}
